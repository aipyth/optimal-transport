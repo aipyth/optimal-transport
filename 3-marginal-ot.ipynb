{
 "cells": [
  {
   "cell_type": "code",
   "execution_count": 3,
   "metadata": {},
   "outputs": [],
   "source": [
    "import torch"
   ]
  },
  {
   "cell_type": "code",
   "execution_count": 4,
   "metadata": {},
   "outputs": [
    {
     "ename": "TypeError",
     "evalue": "sinkhorn_update() takes from 6 to 8 positional arguments but 11 were given",
     "output_type": "error",
     "traceback": [
      "\u001b[0;31m---------------------------------------------------------------------------\u001b[0m",
      "\u001b[0;31mTypeError\u001b[0m                                 Traceback (most recent call last)",
      "\u001b[1;32m/home/ivanzhytkevych/Desktop/optimal-transport/3-marginal-ot.ipynb Cell 2\u001b[0m line \u001b[0;36m6\n\u001b[1;32m     <a href='vscode-notebook-cell:/home/ivanzhytkevych/Desktop/optimal-transport/3-marginal-ot.ipynb#W0sZmlsZQ%3D%3D?line=56'>57</a>\u001b[0m num_iters \u001b[39m=\u001b[39m \u001b[39m100\u001b[39m \u001b[39m# number of iterations\u001b[39;00m\n\u001b[1;32m     <a href='vscode-notebook-cell:/home/ivanzhytkevych/Desktop/optimal-transport/3-marginal-ot.ipynb#W0sZmlsZQ%3D%3D?line=58'>59</a>\u001b[0m \u001b[39m# Run the algorithm\u001b[39;00m\n\u001b[0;32m---> <a href='vscode-notebook-cell:/home/ivanzhytkevych/Desktop/optimal-transport/3-marginal-ot.ipynb#W0sZmlsZQ%3D%3D?line=59'>60</a>\u001b[0m pi_star, updated_u1, updated_u2, updated_u3 \u001b[39m=\u001b[39m sinkhorn_update(u1, u2, u3, C1, C2, C3, mu1, mu2, mu3, epsilon, num_iters)\n",
      "\u001b[0;31mTypeError\u001b[0m: sinkhorn_update() takes from 6 to 8 positional arguments but 11 were given"
     ]
    }
   ],
   "source": [
    "def sinkhorn_update(\n",
    "        C1: torch.Tensor,\n",
    "        C2: torch.Tensor,\n",
    "        C3: torch.Tensor,\n",
    "        mu1: torch.Tensor,\n",
    "        mu2: torch.Tensor,\n",
    "        mu3: torch.Tensor,\n",
    "        epsilon: float = 0.01,\n",
    "        num_iters: int = 1_000,\n",
    "        ):\n",
    "    n = mu1.shape.count()\n",
    "    m = mu2.shape.count()\n",
    "    l = mu3.shape.count()\n",
    "    # u1 = torch.randn(n, requires_grad=True)\n",
    "    # u2 = torch.randn(m, requires_grad=True)\n",
    "    # u3 = torch.randn(l, requires_grad=True)\n",
    "    u1 = torch.randn(n)\n",
    "    u2 = torch.randn(m)\n",
    "    u3 = torch.randn(l)\n",
    "    for _ in range(num_iters):\n",
    "        # Update u1\n",
    "        K1 = torch.sum(\n",
    "            torch.exp((u2.unsqueeze(0) - C1) / epsilon) * torch.exp((u3.unsqueeze(1) - C2 - C3) / epsilon),\n",
    "            dim=(1, 2)\n",
    "            )\n",
    "        u1 = epsilon * torch.log(mu1) - epsilon * torch.log(K1)\n",
    "\n",
    "        # Update u2\n",
    "        K2 = torch.sum(torch.exp((u1.unsqueeze(1) - C1.T) / epsilon) * torch.exp((u3.unsqueeze(0) - C2.T - C3.T) / epsilon), dim=(0, 2))\n",
    "        u2 = epsilon * torch.log(mu2) - epsilon * torch.log(K2)\n",
    "\n",
    "        # Update u3\n",
    "        K3 = torch.sum(torch.exp((u1.unsqueeze(2) - C2) / epsilon) * torch.exp((u2.unsqueeze(2) - C3) / epsilon), dim=(0, 1))\n",
    "        u3 = epsilon * torch.log(mu3) - epsilon * torch.log(K3)\n",
    "\n",
    "    # Compute π*\n",
    "    pi_star = torch.exp((u1.unsqueeze(1).unsqueeze(2) + u2.unsqueeze(0).unsqueeze(2) + u3.unsqueeze(0).unsqueeze(1) - C1 - C2 - C3) / epsilon)\n",
    "\n",
    "    return pi_star, u1, u2, u3\n",
    "\n",
    "\n",
    "# Example usage:\n",
    "\n",
    "n = m = l = 10\n",
    "\n",
    "# Initialize u vectors, cost matrices, and marginals\n",
    "u1 = torch.randn(n, requires_grad=True)\n",
    "u2 = torch.randn(m, requires_grad=True)\n",
    "u3 = torch.randn(l, requires_grad=True)\n",
    "C1 = torch.randn(n, m) # cost matrix for C1(x, y)\n",
    "C2 = torch.randn(n, l) # cost matrix for C2(x, z)\n",
    "C3 = torch.randn(m, l) # cost matrix for C3(y, z)\n",
    "mu1 = torch.randn(n)\n",
    "mu2 = torch.randn(m)\n",
    "mu3 = torch.randn(l)\n",
    "epsilon = 0.3 # regularization parameter\n",
    "num_iters = 100 # number of iterations\n",
    "\n",
    "# Run the algorithm\n",
    "pi_star, updated_u1, updated_u2, updated_u3 = sinkhorn_update(u1, u2, u3, C1, C2, C3, mu1, mu2, mu3, epsilon, num_iters)\n"
   ]
  },
  {
   "cell_type": "code",
   "execution_count": null,
   "metadata": {},
   "outputs": [],
   "source": []
  }
 ],
 "metadata": {
  "kernelspec": {
   "display_name": "Python 3",
   "language": "python",
   "name": "python3"
  },
  "language_info": {
   "codemirror_mode": {
    "name": "ipython",
    "version": 3
   },
   "file_extension": ".py",
   "mimetype": "text/x-python",
   "name": "python",
   "nbconvert_exporter": "python",
   "pygments_lexer": "ipython3",
   "version": "3.12.0"
  }
 },
 "nbformat": 4,
 "nbformat_minor": 2
}
