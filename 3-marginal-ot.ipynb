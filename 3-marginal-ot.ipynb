{
 "cells": [
  {
   "cell_type": "code",
   "execution_count": 1,
   "metadata": {},
   "outputs": [],
   "source": [
    "import numpy as np\n",
    "\n",
    "def sinkhorn_regularized(C, mu1, mu2, mu3, lambda_reg, max_iters=1000):\n",
    "    K = np.exp(-lambda_reg * C)\n",
    "    u1 = np.ones_like(mu1)\n",
    "    u2 = np.ones_like(mu2)\n",
    "    u3 = np.ones_like(mu3)\n",
    "\n",
    "    for _ in range(max_iters):\n",
    "        u = mu1 / (K @ v)\n",
    "        v = mu2 / (K.T @ u)\n",
    "\n",
    "    T = np.diag(u) @ K @ np.diag(v)\n",
    "    return T\n"
   ]
  },
  {
   "cell_type": "code",
   "execution_count": 5,
   "metadata": {},
   "outputs": [
    {
     "name": "stdout",
     "output_type": "stream",
     "text": [
      "[[0.03188796 0.12106066 0.14705138]\n",
      " [0.01712917 0.06502983 0.11784101]\n",
      " [0.05098287 0.21390951 0.23510762]]\n"
     ]
    }
   ],
   "source": [
    "C = np.array([[2, 1, 3], [5, 4, 2], [3, 1, 4]])\n",
    "a = np.array([0.3, 0.2, 0.5])\n",
    "b = np.array([0.1, 0.4, 0.5])\n",
    "lambda_reg = 0.1\n",
    "\n",
    "T = sinkhorn_regularized(C, a, b, lambda_reg)\n",
    "\n",
    "print(T)"
   ]
  },
  {
   "cell_type": "code",
   "execution_count": null,
   "metadata": {},
   "outputs": [],
   "source": []
  }
 ],
 "metadata": {
  "kernelspec": {
   "display_name": "Python 3",
   "language": "python",
   "name": "python3"
  },
  "language_info": {
   "codemirror_mode": {
    "name": "ipython",
    "version": 3
   },
   "file_extension": ".py",
   "mimetype": "text/x-python",
   "name": "python",
   "nbconvert_exporter": "python",
   "pygments_lexer": "ipython3",
   "version": "3.11.6"
  }
 },
 "nbformat": 4,
 "nbformat_minor": 2
}
