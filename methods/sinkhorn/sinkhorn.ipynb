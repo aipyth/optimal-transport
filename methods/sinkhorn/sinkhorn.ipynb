{
 "cells": [
  {
   "cell_type": "markdown",
   "metadata": {},
   "source": [
    "# Sinkhorn Algorithm for Optimal Transport\n",
    "\n",
    "The idea of optimal transport is to find a transportation plan $\\pi$ from two probability\n",
    "measures $\\mu$ and $\\nu$ defined on the spaces $X$ and $Y$ respectively.\n",
    "This transportation plan should be the most economical one.\n",
    "To express that is math, we define the cost function $c$\n",
    "(in discrete case it is just a matrix). This way the cost of transporting the mass\n",
    "from a point $x \\in X$ to $y \\in Y$ has the cost $c(x, y)$.\n",
    "\n",
    "There are several formulations of the Optimal Transport problem.\n",
    "\n",
    "The **Kantorovich formulation** is stated as\n",
    "$$\n",
    "\\min_{\\pi \\in \\Pi(\\mu, \\nu)} \\int_{X \\times Y} c(x, y) d \\pi (x, y),\n",
    "$$\n",
    "subject to the marginal constraints for all measurable sets $A \\subset X$ and $B \\subset Y$\n",
    "$$\n",
    "\\pi (A \\times Y) = \\mu(A)\n",
    "\\qquad \\text{and} \\qquad\n",
    "\\pi (X \\times B) = \\nu(B).\n",
    "$$\n",
    "\n",
    "Computationally, it may be hard to work with this Kantorovich formulation\n",
    "as it underlines a strict bounds for the problem to solve.\n",
    "We may need to introduce so called _entropic regularization_ of the _Kantorovich formulation_:\n",
    "\n",
    "$$\n",
    "\\min_{\\pi \\in \\Pi(\\mu, \\nu)} \\int_{X \\times Y} c(x, y) d \\pi (x, y) + \\varepsilon KL(\\pi | \\mu \\otimes \\nu),\n",
    "$$\n",
    "\n",
    "where $KL(\\pi)$ is the Kullback-Leibler divergence defined as\n",
    "$$\n",
    "KL(\\pi) = \\int_{X \\times Y} \\left( \\pi \\ln \\left( \\pi - 1 \\right) \\right) d\\mu \\otimes \\nu.\n",
    "$$\n",
    "\n",
    "This regularized problem has a unique solution $\\pi^*$ such that\n",
    "$$\n",
    "\\pi^* (x, y) = u(x) \\; K(x, y) \\; v(y),\n",
    "$$\n",
    "where $K(x, y) = \\exp \\left\\{ - c(x, y) / \\varepsilon \\right\\} $.\n",
    "\n",
    "For the discrete case we have\n",
    "$$\n",
    "\\pi^* = \\text{diag}(u) \\; K \\; \\text{diag}(v)\n",
    "$$\n",
    "where matrix $K$ is\n",
    "$$\n",
    "K_{ij} = \\exp \\left\\{ \\frac{- C_{ij}}{\\varepsilon} \\right\\}.\n",
    "$$\n",
    "\n",
    "For such vectors $u$ and $v$ we have the marginal constrains to be held\n",
    "$$\n",
    "\\pi^* \\mathbb{1} = \\mu \\qquad \\text{and} \\qquad \\pi^{*T} \\mathbb{1} = \\nu. \n",
    "$$\n",
    "\n",
    "These constraints lead to the iterative updates, which define the Sinkhorn Algorithm\n",
    "of iteratively updating the functions $u$ and $v$ until the convergence\n",
    "$$\n",
    "u := \\frac{\\mu}{K v}, \\qquad v := \\frac{\\nu}{K^T u}.\n",
    "$$"
   ]
  },
  {
   "cell_type": "code",
   "execution_count": 2,
   "metadata": {},
   "outputs": [],
   "source": [
    "import jax\n",
    "import jax.numpy as jnp\n",
    "from matplotlib import pyplot as plt"
   ]
  },
  {
   "cell_type": "code",
   "execution_count": null,
   "metadata": {},
   "outputs": [],
   "source": []
  }
 ],
 "metadata": {
  "kernelspec": {
   "display_name": "Python 3",
   "language": "python",
   "name": "python3"
  },
  "language_info": {
   "codemirror_mode": {
    "name": "ipython",
    "version": 3
   },
   "file_extension": ".py",
   "mimetype": "text/x-python",
   "name": "python",
   "nbconvert_exporter": "python",
   "pygments_lexer": "ipython3",
   "version": "3.10.14"
  }
 },
 "nbformat": 4,
 "nbformat_minor": 2
}
