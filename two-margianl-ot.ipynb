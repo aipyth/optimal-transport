{
 "cells": [
  {
   "cell_type": "markdown",
   "metadata": {},
   "source": [
    "# Optimal Transport for Two Marginals\n",
    "\n",
    "TODO: theory"
   ]
  },
  {
   "cell_type": "markdown",
   "metadata": {},
   "source": [
    "## Sinkhorn Algorithm\n",
    "\n",
    "Find the desired measure\n",
    "$$\\Pi_{i,j} = a(x) K(x,y) b(y)$$\n",
    "where\n",
    "$$a(x) = \\exp \\left\\{ \\frac{u(x)}{\\varepsilon} \\right\\}$$\n",
    "$$b(y) = \\exp \\left\\{ \\frac{v(y)}{\\varepsilon} \\right\\}$$\n",
    "$$K(x, y) = \\exp \\left\\{ - \\frac{c(x, y)}{\\varepsilon} \\right\\}$$\n",
    "\n",
    "For the discrete case:\n",
    "$$\\Pi_{i,j} = a_{i} K_{i,j} b_{j}$$\n",
    "\n",
    "where $a_{i}, K_{i,j}$ and $b_{j}$ are matrices.\n",
    "\n",
    "TODO: input data\n",
    "TODO: output data\n",
    "TODO: complexity?\n",
    "\n",
    "1. Initialize $a^{0} \\equiv 1$\n",
    "2. Update the "
   ]
  },
  {
   "cell_type": "markdown",
   "metadata": {},
   "source": []
  }
 ],
 "metadata": {
  "language_info": {
   "name": "python"
  }
 },
 "nbformat": 4,
 "nbformat_minor": 2
}
